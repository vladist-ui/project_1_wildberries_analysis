{
 "cells": [
  {
   "cell_type": "code",
   "execution_count": 1,
   "id": "8f7fedb0-ec54-46d8-a6f3-0a88c9b76f69",
   "metadata": {},
   "outputs": [],
   "source": [
    "import os\n",
    "import sys\n",
    "\n",
    "# Получим путь директории в которой находится скрипт\n",
    "wd = os.getcwd()\n",
    "# Получим путь директории в которой находится проект\n",
    "wd = wd[:-wd[::-1].find(\"\\\\\")]\n",
    "# Для лёгкого импротирования скриптов\n",
    "sys.path.append(wd + 'dashboard')\n",
    "sys.path.append(wd + 'scripts')\n",
    "from Paeser import pars_wildberries"
   ]
  },
  {
   "cell_type": "code",
   "execution_count": 3,
   "id": "90211454-7be9-4025-8fe6-2b7ce460af01",
   "metadata": {},
   "outputs": [],
   "source": [
    "# Папка, в которую сохраняем датасеты\n",
    "wd_data = \"data\\\\\"\n",
    "# Имя датасета\n",
    "name_dataset = \"wildberries_product_dataset.csv\"\n",
    "# Тег очищенного датасета\n",
    "tag_clear_dataset = \"clean_\""
   ]
  },
  {
   "cell_type": "code",
   "execution_count": 5,
   "id": "620b5062-a969-4da1-b6ff-5f715789b94d",
   "metadata": {},
   "outputs": [],
   "source": [
    "#Сбор данных"
   ]
  },
  {
   "cell_type": "code",
   "execution_count": 7,
   "id": "d55d00bf-c7f3-497d-9262-adfaa79fc548",
   "metadata": {},
   "outputs": [],
   "source": [
    "from selenium import webdriver\n",
    "\n",
    "def create_driver():\n",
    "    options = webdriver.ChromeOptions()\n",
    "    #options.add_argument(\"--headless=new\")\n",
    "    options.add_argument(\"user-agent=Mozilla/5.0 (Windows NT 10.0; Win64; x64) AppleWebKit/537.36 (KHTML, like Gecko) Chrome/91.0.4472.124 Safari/537.36\")\n",
    "    options.add_argument(\"start-maximized\")\n",
    "    options.add_experimental_option('useAutomationExtension', False)\n",
    "    options.add_experimental_option(\"excludeSwitches\", [\"enable-automation\"])\n",
    "    \n",
    "    driver = webdriver.Chrome(options=options)\n",
    "\n",
    "    return driver"
   ]
  },
  {
   "cell_type": "code",
   "execution_count": 9,
   "id": "32c55818-1d8a-4bf1-85c0-8dcfb8cd62d0",
   "metadata": {},
   "outputs": [],
   "source": [
    "from selenium.webdriver.common.keys import Keys\n",
    "from selenium.webdriver.common.action_chains import ActionChains\n",
    "from tqdm import tqdm\n",
    "import time\n",
    "import pandas as pd"
   ]
  },
  {
   "cell_type": "code",
   "execution_count": 11,
   "id": "cc4b3a42-99e6-4cad-84de-f00587087741",
   "metadata": {},
   "outputs": [
    {
     "name": "stderr",
     "output_type": "stream",
     "text": [
      "100%|██████████| 5/5 [04:04<00:00, 48.99s/it]\n"
     ]
    }
   ],
   "source": [
    "# Адрес сайта\n",
    "url = \"https://www.wildberries.ru/\"\n",
    "# Список вещей, которые ищем\n",
    "list_request = [\"Футболка\", \"Наушники\", \"Часы\", \"Джинсы\", \"Кроссовки\"]\n",
    "# Датафрейм, в который будем \n",
    "df = pd.DataFrame({'title': [], 'price': [],'rating': [],'reviews':[],'link': [],'req': []})\n",
    "\n",
    "# Создадим драйвер\n",
    "driver = create_driver()\n",
    "# откроем сайт\n",
    "driver.get(url)\n",
    "\n",
    "# Заполним датафрейм тоаварами\n",
    "for req in tqdm(list_request):\n",
    "    df = pars_wildberries(req, driver, df)\n",
    "    "
   ]
  },
  {
   "cell_type": "code",
   "execution_count": 12,
   "id": "ad9c467d-54ca-433f-a666-e71a25e0f5fd",
   "metadata": {},
   "outputs": [
    {
     "data": {
      "text/html": [
       "<div>\n",
       "<style scoped>\n",
       "    .dataframe tbody tr th:only-of-type {\n",
       "        vertical-align: middle;\n",
       "    }\n",
       "\n",
       "    .dataframe tbody tr th {\n",
       "        vertical-align: top;\n",
       "    }\n",
       "\n",
       "    .dataframe thead th {\n",
       "        text-align: right;\n",
       "    }\n",
       "</style>\n",
       "<table border=\"1\" class=\"dataframe\">\n",
       "  <thead>\n",
       "    <tr style=\"text-align: right;\">\n",
       "      <th></th>\n",
       "      <th>title</th>\n",
       "      <th>price</th>\n",
       "      <th>rating</th>\n",
       "      <th>reviews</th>\n",
       "      <th>link</th>\n",
       "      <th>req</th>\n",
       "    </tr>\n",
       "  </thead>\n",
       "  <tbody>\n",
       "    <tr>\n",
       "      <th>0</th>\n",
       "      <td>Футболка белая однотонная 100% хлопок набор 3 ...</td>\n",
       "      <td>1084.0</td>\n",
       "      <td>4.8</td>\n",
       "      <td>4806.0</td>\n",
       "      <td>https://www.wildberries.ru/catalog/221304962/d...</td>\n",
       "      <td>Футболка</td>\n",
       "    </tr>\n",
       "    <tr>\n",
       "      <th>1</th>\n",
       "      <td>Футболка хлопок набор 3 шт Varo</td>\n",
       "      <td>1212.0</td>\n",
       "      <td>4.8</td>\n",
       "      <td>156804.0</td>\n",
       "      <td>https://www.wildberries.ru/catalog/174232323/d...</td>\n",
       "      <td>Футболка</td>\n",
       "    </tr>\n",
       "    <tr>\n",
       "      <th>2</th>\n",
       "      <td>Пара футболок премиум с принтом Decathlon Turkey</td>\n",
       "      <td>1424.0</td>\n",
       "      <td>4.9</td>\n",
       "      <td>8283.0</td>\n",
       "      <td>https://www.wildberries.ru/catalog/262052412/d...</td>\n",
       "      <td>Футболка</td>\n",
       "    </tr>\n",
       "    <tr>\n",
       "      <th>3</th>\n",
       "      <td>Футболка хлопок с принтом GLAMURIKI_GLM COUTUR...</td>\n",
       "      <td>537.0</td>\n",
       "      <td>4.8</td>\n",
       "      <td>10738.0</td>\n",
       "      <td>https://www.wildberries.ru/catalog/167584225/d...</td>\n",
       "      <td>Футболка</td>\n",
       "    </tr>\n",
       "    <tr>\n",
       "      <th>4</th>\n",
       "      <td>Футболка детская KUROMI GLAMURIKI_GLM COUTURE_...</td>\n",
       "      <td>580.0</td>\n",
       "      <td>4.9</td>\n",
       "      <td>576.0</td>\n",
       "      <td>https://www.wildberries.ru/catalog/338104423/d...</td>\n",
       "      <td>Футболка</td>\n",
       "    </tr>\n",
       "    <tr>\n",
       "      <th>...</th>\n",
       "      <td>...</td>\n",
       "      <td>...</td>\n",
       "      <td>...</td>\n",
       "      <td>...</td>\n",
       "      <td>...</td>\n",
       "      <td>...</td>\n",
       "    </tr>\n",
       "    <tr>\n",
       "      <th>4606</th>\n",
       "      <td>Кроссовки Baskets Forum 84 демисезонные весна ...</td>\n",
       "      <td>3061.0</td>\n",
       "      <td>4.5</td>\n",
       "      <td>199.0</td>\n",
       "      <td>https://www.wildberries.ru/catalog/175465004/d...</td>\n",
       "      <td>Кроссовки</td>\n",
       "    </tr>\n",
       "    <tr>\n",
       "      <th>4607</th>\n",
       "      <td>Кроссовки Louis Vuitton Golding Shop</td>\n",
       "      <td>2860.0</td>\n",
       "      <td>4.5</td>\n",
       "      <td>6592.0</td>\n",
       "      <td>https://www.wildberries.ru/catalog/172695426/d...</td>\n",
       "      <td>Кроссовки</td>\n",
       "    </tr>\n",
       "    <tr>\n",
       "      <th>4608</th>\n",
       "      <td>Кроссовки aLLi</td>\n",
       "      <td>1643.0</td>\n",
       "      <td>4.6</td>\n",
       "      <td>3170.0</td>\n",
       "      <td>https://www.wildberries.ru/catalog/169004232/d...</td>\n",
       "      <td>Кроссовки</td>\n",
       "    </tr>\n",
       "    <tr>\n",
       "      <th>4609</th>\n",
       "      <td>Кроссовки Voodoo трэвис скотт данки sb джордан...</td>\n",
       "      <td>2204.0</td>\n",
       "      <td>4.1</td>\n",
       "      <td>7840.0</td>\n",
       "      <td>https://www.wildberries.ru/catalog/166244902/d...</td>\n",
       "      <td>Кроссовки</td>\n",
       "    </tr>\n",
       "    <tr>\n",
       "      <th>4610</th>\n",
       "      <td>Широкие белые шнурки 110см 15мм для кампусов</td>\n",
       "      <td>208.0</td>\n",
       "      <td>4.9</td>\n",
       "      <td>3617.0</td>\n",
       "      <td>https://www.wildberries.ru/catalog/175189710/d...</td>\n",
       "      <td>Кроссовки</td>\n",
       "    </tr>\n",
       "  </tbody>\n",
       "</table>\n",
       "<p>4611 rows × 6 columns</p>\n",
       "</div>"
      ],
      "text/plain": [
       "                                                  title   price rating  \\\n",
       "0     Футболка белая однотонная 100% хлопок набор 3 ...  1084.0    4.8   \n",
       "1                       Футболка хлопок набор 3 шт Varo  1212.0    4.8   \n",
       "2      Пара футболок премиум с принтом Decathlon Turkey  1424.0    4.9   \n",
       "3     Футболка хлопок с принтом GLAMURIKI_GLM COUTUR...   537.0    4.8   \n",
       "4     Футболка детская KUROMI GLAMURIKI_GLM COUTURE_...   580.0    4.9   \n",
       "...                                                 ...     ...    ...   \n",
       "4606  Кроссовки Baskets Forum 84 демисезонные весна ...  3061.0    4.5   \n",
       "4607               Кроссовки Louis Vuitton Golding Shop  2860.0    4.5   \n",
       "4608                                     Кроссовки aLLi  1643.0    4.6   \n",
       "4609  Кроссовки Voodoo трэвис скотт данки sb джордан...  2204.0    4.1   \n",
       "4610      Широкие белые шнурки 110см 15мм для кампусов    208.0    4.9   \n",
       "\n",
       "       reviews                                               link        req  \n",
       "0       4806.0  https://www.wildberries.ru/catalog/221304962/d...   Футболка  \n",
       "1     156804.0  https://www.wildberries.ru/catalog/174232323/d...   Футболка  \n",
       "2       8283.0  https://www.wildberries.ru/catalog/262052412/d...   Футболка  \n",
       "3      10738.0  https://www.wildberries.ru/catalog/167584225/d...   Футболка  \n",
       "4        576.0  https://www.wildberries.ru/catalog/338104423/d...   Футболка  \n",
       "...        ...                                                ...        ...  \n",
       "4606     199.0  https://www.wildberries.ru/catalog/175465004/d...  Кроссовки  \n",
       "4607    6592.0  https://www.wildberries.ru/catalog/172695426/d...  Кроссовки  \n",
       "4608    3170.0  https://www.wildberries.ru/catalog/169004232/d...  Кроссовки  \n",
       "4609    7840.0  https://www.wildberries.ru/catalog/166244902/d...  Кроссовки  \n",
       "4610    3617.0  https://www.wildberries.ru/catalog/175189710/d...  Кроссовки  \n",
       "\n",
       "[4611 rows x 6 columns]"
      ]
     },
     "execution_count": 12,
     "metadata": {},
     "output_type": "execute_result"
    }
   ],
   "source": [
    "df"
   ]
  },
  {
   "cell_type": "code",
   "execution_count": 15,
   "id": "2d773cee-ea7b-4540-ada3-a9dbfb2e0e6e",
   "metadata": {},
   "outputs": [],
   "source": [
    "# Закроем драйвер\n",
    "driver.quit()"
   ]
  },
  {
   "cell_type": "code",
   "execution_count": 16,
   "id": "93635b42-4817-4748-8a14-4f9400d604bc",
   "metadata": {},
   "outputs": [],
   "source": [
    "# Сохраним данные\n",
    "#df.to_csv(wd + wd_data + name_dataset)"
   ]
  },
  {
   "cell_type": "code",
   "execution_count": 105,
   "id": "ab36a726-0bb0-47b2-88b9-1465b50c0793",
   "metadata": {},
   "outputs": [],
   "source": [
    "#Загрузка данных\n",
    "df = pd.read_csv(wd + wd_data + name_dataset).drop(\"Unnamed: 0\", axis = 1)"
   ]
  },
  {
   "cell_type": "code",
   "execution_count": 107,
   "id": "9145ba39-23d4-4be5-9f22-b789ad9beab0",
   "metadata": {},
   "outputs": [
    {
     "data": {
      "text/html": [
       "<div>\n",
       "<style scoped>\n",
       "    .dataframe tbody tr th:only-of-type {\n",
       "        vertical-align: middle;\n",
       "    }\n",
       "\n",
       "    .dataframe tbody tr th {\n",
       "        vertical-align: top;\n",
       "    }\n",
       "\n",
       "    .dataframe thead th {\n",
       "        text-align: right;\n",
       "    }\n",
       "</style>\n",
       "<table border=\"1\" class=\"dataframe\">\n",
       "  <thead>\n",
       "    <tr style=\"text-align: right;\">\n",
       "      <th></th>\n",
       "      <th>title</th>\n",
       "      <th>price</th>\n",
       "      <th>rating</th>\n",
       "      <th>reviews</th>\n",
       "      <th>link</th>\n",
       "      <th>req</th>\n",
       "    </tr>\n",
       "  </thead>\n",
       "  <tbody>\n",
       "    <tr>\n",
       "      <th>0</th>\n",
       "      <td>Футболка белая однотонная 100% хлопок набор 3 ...</td>\n",
       "      <td>1084.0</td>\n",
       "      <td>4.8</td>\n",
       "      <td>4806.0</td>\n",
       "      <td>https://www.wildberries.ru/catalog/221304962/d...</td>\n",
       "      <td>Футболка</td>\n",
       "    </tr>\n",
       "    <tr>\n",
       "      <th>1</th>\n",
       "      <td>Футболка хлопок набор 3 шт Varo</td>\n",
       "      <td>1212.0</td>\n",
       "      <td>4.8</td>\n",
       "      <td>156804.0</td>\n",
       "      <td>https://www.wildberries.ru/catalog/174232323/d...</td>\n",
       "      <td>Футболка</td>\n",
       "    </tr>\n",
       "    <tr>\n",
       "      <th>2</th>\n",
       "      <td>Пара футболок премиум с принтом Decathlon Turkey</td>\n",
       "      <td>1424.0</td>\n",
       "      <td>4.9</td>\n",
       "      <td>8283.0</td>\n",
       "      <td>https://www.wildberries.ru/catalog/262052412/d...</td>\n",
       "      <td>Футболка</td>\n",
       "    </tr>\n",
       "    <tr>\n",
       "      <th>3</th>\n",
       "      <td>Футболка хлопок с принтом GLAMURIKI_GLM COUTUR...</td>\n",
       "      <td>537.0</td>\n",
       "      <td>4.8</td>\n",
       "      <td>10738.0</td>\n",
       "      <td>https://www.wildberries.ru/catalog/167584225/d...</td>\n",
       "      <td>Футболка</td>\n",
       "    </tr>\n",
       "    <tr>\n",
       "      <th>4</th>\n",
       "      <td>Футболка детская KUROMI GLAMURIKI_GLM COUTURE_...</td>\n",
       "      <td>580.0</td>\n",
       "      <td>4.9</td>\n",
       "      <td>576.0</td>\n",
       "      <td>https://www.wildberries.ru/catalog/338104423/d...</td>\n",
       "      <td>Футболка</td>\n",
       "    </tr>\n",
       "    <tr>\n",
       "      <th>...</th>\n",
       "      <td>...</td>\n",
       "      <td>...</td>\n",
       "      <td>...</td>\n",
       "      <td>...</td>\n",
       "      <td>...</td>\n",
       "      <td>...</td>\n",
       "    </tr>\n",
       "    <tr>\n",
       "      <th>4606</th>\n",
       "      <td>Кроссовки Baskets Forum 84 демисезонные весна ...</td>\n",
       "      <td>3061.0</td>\n",
       "      <td>4.5</td>\n",
       "      <td>199.0</td>\n",
       "      <td>https://www.wildberries.ru/catalog/175465004/d...</td>\n",
       "      <td>Кроссовки</td>\n",
       "    </tr>\n",
       "    <tr>\n",
       "      <th>4607</th>\n",
       "      <td>Кроссовки Louis Vuitton Golding Shop</td>\n",
       "      <td>2860.0</td>\n",
       "      <td>4.5</td>\n",
       "      <td>6592.0</td>\n",
       "      <td>https://www.wildberries.ru/catalog/172695426/d...</td>\n",
       "      <td>Кроссовки</td>\n",
       "    </tr>\n",
       "    <tr>\n",
       "      <th>4608</th>\n",
       "      <td>Кроссовки aLLi</td>\n",
       "      <td>1643.0</td>\n",
       "      <td>4.6</td>\n",
       "      <td>3170.0</td>\n",
       "      <td>https://www.wildberries.ru/catalog/169004232/d...</td>\n",
       "      <td>Кроссовки</td>\n",
       "    </tr>\n",
       "    <tr>\n",
       "      <th>4609</th>\n",
       "      <td>Кроссовки Voodoo трэвис скотт данки sb джордан...</td>\n",
       "      <td>2204.0</td>\n",
       "      <td>4.1</td>\n",
       "      <td>7840.0</td>\n",
       "      <td>https://www.wildberries.ru/catalog/166244902/d...</td>\n",
       "      <td>Кроссовки</td>\n",
       "    </tr>\n",
       "    <tr>\n",
       "      <th>4610</th>\n",
       "      <td>Широкие белые шнурки 110см 15мм для кампусов</td>\n",
       "      <td>208.0</td>\n",
       "      <td>4.9</td>\n",
       "      <td>3617.0</td>\n",
       "      <td>https://www.wildberries.ru/catalog/175189710/d...</td>\n",
       "      <td>Кроссовки</td>\n",
       "    </tr>\n",
       "  </tbody>\n",
       "</table>\n",
       "<p>4611 rows × 6 columns</p>\n",
       "</div>"
      ],
      "text/plain": [
       "                                                  title   price  rating  \\\n",
       "0     Футболка белая однотонная 100% хлопок набор 3 ...  1084.0     4.8   \n",
       "1                       Футболка хлопок набор 3 шт Varo  1212.0     4.8   \n",
       "2      Пара футболок премиум с принтом Decathlon Turkey  1424.0     4.9   \n",
       "3     Футболка хлопок с принтом GLAMURIKI_GLM COUTUR...   537.0     4.8   \n",
       "4     Футболка детская KUROMI GLAMURIKI_GLM COUTURE_...   580.0     4.9   \n",
       "...                                                 ...     ...     ...   \n",
       "4606  Кроссовки Baskets Forum 84 демисезонные весна ...  3061.0     4.5   \n",
       "4607               Кроссовки Louis Vuitton Golding Shop  2860.0     4.5   \n",
       "4608                                     Кроссовки aLLi  1643.0     4.6   \n",
       "4609  Кроссовки Voodoo трэвис скотт данки sb джордан...  2204.0     4.1   \n",
       "4610      Широкие белые шнурки 110см 15мм для кампусов    208.0     4.9   \n",
       "\n",
       "       reviews                                               link        req  \n",
       "0       4806.0  https://www.wildberries.ru/catalog/221304962/d...   Футболка  \n",
       "1     156804.0  https://www.wildberries.ru/catalog/174232323/d...   Футболка  \n",
       "2       8283.0  https://www.wildberries.ru/catalog/262052412/d...   Футболка  \n",
       "3      10738.0  https://www.wildberries.ru/catalog/167584225/d...   Футболка  \n",
       "4        576.0  https://www.wildberries.ru/catalog/338104423/d...   Футболка  \n",
       "...        ...                                                ...        ...  \n",
       "4606     199.0  https://www.wildberries.ru/catalog/175465004/d...  Кроссовки  \n",
       "4607    6592.0  https://www.wildberries.ru/catalog/172695426/d...  Кроссовки  \n",
       "4608    3170.0  https://www.wildberries.ru/catalog/169004232/d...  Кроссовки  \n",
       "4609    7840.0  https://www.wildberries.ru/catalog/166244902/d...  Кроссовки  \n",
       "4610    3617.0  https://www.wildberries.ru/catalog/175189710/d...  Кроссовки  \n",
       "\n",
       "[4611 rows x 6 columns]"
      ]
     },
     "execution_count": 107,
     "metadata": {},
     "output_type": "execute_result"
    }
   ],
   "source": [
    "# Посмотрим датасет\n",
    "df"
   ]
  },
  {
   "cell_type": "code",
   "execution_count": 25,
   "id": "7d448b1a-fd0b-4074-88d6-18f5a62c692a",
   "metadata": {},
   "outputs": [],
   "source": [
    "# У нас 4611 товара"
   ]
  },
  {
   "cell_type": "code",
   "execution_count": 109,
   "id": "c1bcc04e-b129-423b-a5c4-31ae0372d3b0",
   "metadata": {
    "scrolled": true
   },
   "outputs": [
    {
     "name": "stdout",
     "output_type": "stream",
     "text": [
      "title      Футболка прямая в полоску с округлым низом TOM...\n",
      "price                                                 1339.0\n",
      "rating                                                   4.8\n",
      "reviews                                                267.0\n",
      "link       https://www.wildberries.ru/catalog/337676460/d...\n",
      "req                                                 Футболка\n",
      "Name: 53, dtype: object\n"
     ]
    },
    {
     "data": {
      "text/plain": [
       "'https://www.wildberries.ru/catalog/337676460/detail.aspx'"
      ]
     },
     "execution_count": 109,
     "metadata": {},
     "output_type": "execute_result"
    }
   ],
   "source": [
    "# Достанем ссылку и проверим соответствие данных у товара\n",
    "print(df.loc[53])\n",
    "df.loc[53][\"link\"]"
   ]
  },
  {
   "cell_type": "code",
   "execution_count": 111,
   "id": "7c652063-5806-4603-a123-c7985c84c846",
   "metadata": {},
   "outputs": [
    {
     "name": "stdout",
     "output_type": "stream",
     "text": [
      "<class 'pandas.core.frame.DataFrame'>\n",
      "RangeIndex: 4611 entries, 0 to 4610\n",
      "Data columns (total 6 columns):\n",
      " #   Column   Non-Null Count  Dtype  \n",
      "---  ------   --------------  -----  \n",
      " 0   title    4611 non-null   object \n",
      " 1   price    4611 non-null   float64\n",
      " 2   rating   4611 non-null   float64\n",
      " 3   reviews  4611 non-null   float64\n",
      " 4   link     4611 non-null   object \n",
      " 5   req      4611 non-null   object \n",
      "dtypes: float64(3), object(3)\n",
      "memory usage: 216.3+ KB\n"
     ]
    }
   ],
   "source": [
    "df.info()"
   ]
  },
  {
   "cell_type": "code",
   "execution_count": 113,
   "id": "1499a97a-6328-432e-9a33-853efa6068bc",
   "metadata": {},
   "outputs": [],
   "source": [
    "# Поменяем тип данных на корректныe\n",
    "df.price = df.price.astype(int)\n",
    "df.reviews = df.reviews.astype(int)"
   ]
  },
  {
   "cell_type": "code",
   "execution_count": 115,
   "id": "e39c086c-47b5-407e-9e4f-9548b76cdcf2",
   "metadata": {
    "scrolled": true
   },
   "outputs": [
    {
     "name": "stdout",
     "output_type": "stream",
     "text": [
      "\n",
      "Пропуски в данных:\n",
      "title      0\n",
      "price      0\n",
      "rating     0\n",
      "reviews    0\n",
      "link       0\n",
      "req        0\n",
      "dtype: int64\n"
     ]
    }
   ],
   "source": [
    "print(\"\\nПропуски в данных:\")\n",
    "print(df.isnull().sum())"
   ]
  },
  {
   "cell_type": "code",
   "execution_count": 117,
   "id": "3cc9609d-6cf2-4019-a85c-7c84f4be4dfe",
   "metadata": {},
   "outputs": [],
   "source": [
    "# Пропусков нет, так как мы парсили только то, у чего заполнялься все поля"
   ]
  },
  {
   "cell_type": "code",
   "execution_count": 119,
   "id": "e57bbfba-6bae-45b1-90ee-2ab25087ff22",
   "metadata": {},
   "outputs": [
    {
     "name": "stdout",
     "output_type": "stream",
     "text": [
      "\n",
      "Описательные статистики:\n",
      "                                            title         price       rating  \\\n",
      "count                                        4611   4611.000000  4611.000000   \n",
      "unique                                       1886           NaN          NaN   \n",
      "top     Кроссовки весенние-летние Premium & Shoes           NaN          NaN   \n",
      "freq                                          160           NaN          NaN   \n",
      "mean                                          NaN   1807.999133     4.628410   \n",
      "std                                           NaN   1910.702599     0.199619   \n",
      "min                                           NaN    102.000000     3.400000   \n",
      "25%                                           NaN    711.000000     4.500000   \n",
      "50%                                           NaN   1452.000000     4.700000   \n",
      "75%                                           NaN   2316.000000     4.800000   \n",
      "max                                           NaN  34621.000000     4.900000   \n",
      "\n",
      "              reviews                                               link   req  \n",
      "count     4611.000000                                               4611  4611  \n",
      "unique            NaN                                               2274     5  \n",
      "top               NaN  https://www.wildberries.ru/catalog/165450378/d...  Часы  \n",
      "freq              NaN                                                 20   998  \n",
      "mean      9425.080677                                                NaN   NaN  \n",
      "std      22979.853555                                                NaN   NaN  \n",
      "min          2.000000                                                NaN   NaN  \n",
      "25%        429.500000                                                NaN   NaN  \n",
      "50%       2155.000000                                                NaN   NaN  \n",
      "75%       8885.000000                                                NaN   NaN  \n",
      "max     431840.000000                                                NaN   NaN  \n"
     ]
    }
   ],
   "source": [
    "print(\"\\nОписательные статистики:\")\n",
    "print(df.describe(include='all'))"
   ]
  },
  {
   "cell_type": "code",
   "execution_count": 121,
   "id": "7767c8ea-ccec-44ed-b415-1001ebebff15",
   "metadata": {},
   "outputs": [],
   "source": [
    "# Рейтинг на валдберисе представлен в пятибальной шкале, все товары попадают в эту вилку"
   ]
  },
  {
   "cell_type": "code",
   "execution_count": null,
   "id": "b3613a72-f953-4498-8731-56383f35210d",
   "metadata": {
    "scrolled": true
   },
   "outputs": [],
   "source": []
  },
  {
   "cell_type": "code",
   "execution_count": 124,
   "id": "2a53175f-b03f-4b06-8a2f-4a863b5c25ad",
   "metadata": {},
   "outputs": [
    {
     "name": "stdout",
     "output_type": "stream",
     "text": [
      "\n",
      "Анализ столбца price:\n",
      "Медиана: 1452.0\n",
      "Среднее: 1807.9991325092171\n",
      "Стандартное отклонение: 1910.702598851358\n",
      "Минимум: 102\n",
      "Максимум: 34621\n",
      "Количество нулевых значений: 0\n",
      "\n",
      "Анализ столбца rating:\n",
      "Медиана: 4.7\n",
      "Среднее: 4.628410323140316\n",
      "Стандартное отклонение: 0.19961907741232188\n",
      "Минимум: 3.4\n",
      "Максимум: 4.9\n",
      "Количество нулевых значений: 0\n",
      "\n",
      "Анализ столбца reviews:\n",
      "Медиана: 2155.0\n",
      "Среднее: 9425.08067664281\n",
      "Стандартное отклонение: 22979.853555355767\n",
      "Минимум: 2\n",
      "Максимум: 431840\n",
      "Количество нулевых значений: 0\n"
     ]
    }
   ],
   "source": [
    "# Анализ числовых переменных у очищенных данных\n",
    "numeric_cols = ['price', 'rating', 'reviews']\n",
    "for col in numeric_cols:\n",
    "    print(f\"\\nАнализ столбца {col}:\")\n",
    "    print(f\"Медиана: {df[col].median()}\")\n",
    "    print(f\"Среднее: {df[col].mean()}\")\n",
    "    print(f\"Стандартное отклонение: {df[col].std()}\")\n",
    "    print(f\"Минимум: {df[col].min()}\")\n",
    "    print(f\"Максимум: {df[col].max()}\")\n",
    "    print(f\"Количество нулевых значений: {(df[col] == 0).sum()}\")"
   ]
  },
  {
   "cell_type": "code",
   "execution_count": 126,
   "id": "15ac9140-c47a-4c7c-b7f7-d2cbe391b278",
   "metadata": {},
   "outputs": [],
   "source": [
    "# Значения не вызывают подозрений - всё в пределах нормы"
   ]
  },
  {
   "cell_type": "code",
   "execution_count": 128,
   "id": "e935e1e8-7753-44cb-91c5-af518eb7d1f1",
   "metadata": {},
   "outputs": [],
   "source": [
    "# Удалим дубликаты\n",
    "df = df.drop_duplicates()\n",
    "\n",
    "\n",
    "#Очистим от товаров не содержащих слова из запроса\n",
    "df = df[df.apply(lambda x: x['req'].lower() in x['title'].lower(), axis=1)]"
   ]
  },
  {
   "cell_type": "code",
   "execution_count": 130,
   "id": "8a0eec9a-56b4-4277-bc66-0110e8afff3d",
   "metadata": {},
   "outputs": [],
   "source": [
    "# После очитстки осталось 2251 строки"
   ]
  },
  {
   "cell_type": "code",
   "execution_count": 132,
   "id": "c6bb1063-81c2-444e-a847-5591cf2db224",
   "metadata": {},
   "outputs": [],
   "source": [
    "#сохраним очищенные данные\n",
    "# df.to_csv(wd + wd_data + tag_clear_dataset + name_dataset)"
   ]
  },
  {
   "cell_type": "code",
   "execution_count": 13,
   "id": "78c3283e-883e-49eb-aa1b-70cda05af854",
   "metadata": {},
   "outputs": [],
   "source": [
    "# Загрузим очищенные данные\n",
    "import pandas as pd\n",
    "df = pd.read_csv(wd + wd_data + tag_clear_dataset + name_dataset).drop(\"Unnamed: 0\", axis = 1)"
   ]
  },
  {
   "cell_type": "code",
   "execution_count": 15,
   "id": "73eea08f-b19f-4742-8953-ca074b6056f3",
   "metadata": {},
   "outputs": [
    {
     "data": {
      "text/html": [
       "<div>\n",
       "<style scoped>\n",
       "    .dataframe tbody tr th:only-of-type {\n",
       "        vertical-align: middle;\n",
       "    }\n",
       "\n",
       "    .dataframe tbody tr th {\n",
       "        vertical-align: top;\n",
       "    }\n",
       "\n",
       "    .dataframe thead th {\n",
       "        text-align: right;\n",
       "    }\n",
       "</style>\n",
       "<table border=\"1\" class=\"dataframe\">\n",
       "  <thead>\n",
       "    <tr style=\"text-align: right;\">\n",
       "      <th></th>\n",
       "      <th>title</th>\n",
       "      <th>price</th>\n",
       "      <th>rating</th>\n",
       "      <th>reviews</th>\n",
       "      <th>link</th>\n",
       "      <th>req</th>\n",
       "    </tr>\n",
       "  </thead>\n",
       "  <tbody>\n",
       "    <tr>\n",
       "      <th>0</th>\n",
       "      <td>Футболка белая однотонная 100% хлопок набор 3 ...</td>\n",
       "      <td>1084</td>\n",
       "      <td>4.8</td>\n",
       "      <td>4806</td>\n",
       "      <td>https://www.wildberries.ru/catalog/221304962/d...</td>\n",
       "      <td>Футболка</td>\n",
       "    </tr>\n",
       "    <tr>\n",
       "      <th>1</th>\n",
       "      <td>Футболка хлопок набор 3 шт Varo</td>\n",
       "      <td>1212</td>\n",
       "      <td>4.8</td>\n",
       "      <td>156804</td>\n",
       "      <td>https://www.wildberries.ru/catalog/174232323/d...</td>\n",
       "      <td>Футболка</td>\n",
       "    </tr>\n",
       "    <tr>\n",
       "      <th>2</th>\n",
       "      <td>Футболка хлопок с принтом GLAMURIKI_GLM COUTUR...</td>\n",
       "      <td>537</td>\n",
       "      <td>4.8</td>\n",
       "      <td>10738</td>\n",
       "      <td>https://www.wildberries.ru/catalog/167584225/d...</td>\n",
       "      <td>Футболка</td>\n",
       "    </tr>\n",
       "    <tr>\n",
       "      <th>3</th>\n",
       "      <td>Футболка детская KUROMI GLAMURIKI_GLM COUTURE_...</td>\n",
       "      <td>580</td>\n",
       "      <td>4.9</td>\n",
       "      <td>576</td>\n",
       "      <td>https://www.wildberries.ru/catalog/338104423/d...</td>\n",
       "      <td>Футболка</td>\n",
       "    </tr>\n",
       "    <tr>\n",
       "      <th>4</th>\n",
       "      <td>Футболка детская GLAMURIKI_GLM COUTURE_GL KIDS</td>\n",
       "      <td>580</td>\n",
       "      <td>4.9</td>\n",
       "      <td>1426</td>\n",
       "      <td>https://www.wildberries.ru/catalog/302774713/d...</td>\n",
       "      <td>Футболка</td>\n",
       "    </tr>\n",
       "    <tr>\n",
       "      <th>...</th>\n",
       "      <td>...</td>\n",
       "      <td>...</td>\n",
       "      <td>...</td>\n",
       "      <td>...</td>\n",
       "      <td>...</td>\n",
       "      <td>...</td>\n",
       "    </tr>\n",
       "    <tr>\n",
       "      <th>2246</th>\n",
       "      <td>Кроссовки GLIDE Reebok</td>\n",
       "      <td>3380</td>\n",
       "      <td>4.5</td>\n",
       "      <td>605</td>\n",
       "      <td>https://www.wildberries.ru/catalog/146914253/d...</td>\n",
       "      <td>Кроссовки</td>\n",
       "    </tr>\n",
       "    <tr>\n",
       "      <th>2247</th>\n",
       "      <td>Кроссовки Baskets Forum 84 демисезонные весна ...</td>\n",
       "      <td>3061</td>\n",
       "      <td>4.5</td>\n",
       "      <td>199</td>\n",
       "      <td>https://www.wildberries.ru/catalog/175465004/d...</td>\n",
       "      <td>Кроссовки</td>\n",
       "    </tr>\n",
       "    <tr>\n",
       "      <th>2248</th>\n",
       "      <td>Кроссовки Louis Vuitton Golding Shop</td>\n",
       "      <td>2860</td>\n",
       "      <td>4.5</td>\n",
       "      <td>6592</td>\n",
       "      <td>https://www.wildberries.ru/catalog/172695426/d...</td>\n",
       "      <td>Кроссовки</td>\n",
       "    </tr>\n",
       "    <tr>\n",
       "      <th>2249</th>\n",
       "      <td>Кроссовки aLLi</td>\n",
       "      <td>1643</td>\n",
       "      <td>4.6</td>\n",
       "      <td>3170</td>\n",
       "      <td>https://www.wildberries.ru/catalog/169004232/d...</td>\n",
       "      <td>Кроссовки</td>\n",
       "    </tr>\n",
       "    <tr>\n",
       "      <th>2250</th>\n",
       "      <td>Кроссовки Voodoo трэвис скотт данки sb джордан...</td>\n",
       "      <td>2204</td>\n",
       "      <td>4.1</td>\n",
       "      <td>7840</td>\n",
       "      <td>https://www.wildberries.ru/catalog/166244902/d...</td>\n",
       "      <td>Кроссовки</td>\n",
       "    </tr>\n",
       "  </tbody>\n",
       "</table>\n",
       "<p>2251 rows × 6 columns</p>\n",
       "</div>"
      ],
      "text/plain": [
       "                                                  title  price  rating  \\\n",
       "0     Футболка белая однотонная 100% хлопок набор 3 ...   1084     4.8   \n",
       "1                       Футболка хлопок набор 3 шт Varo   1212     4.8   \n",
       "2     Футболка хлопок с принтом GLAMURIKI_GLM COUTUR...    537     4.8   \n",
       "3     Футболка детская KUROMI GLAMURIKI_GLM COUTURE_...    580     4.9   \n",
       "4        Футболка детская GLAMURIKI_GLM COUTURE_GL KIDS    580     4.9   \n",
       "...                                                 ...    ...     ...   \n",
       "2246                             Кроссовки GLIDE Reebok   3380     4.5   \n",
       "2247  Кроссовки Baskets Forum 84 демисезонные весна ...   3061     4.5   \n",
       "2248               Кроссовки Louis Vuitton Golding Shop   2860     4.5   \n",
       "2249                                     Кроссовки aLLi   1643     4.6   \n",
       "2250  Кроссовки Voodoo трэвис скотт данки sb джордан...   2204     4.1   \n",
       "\n",
       "      reviews                                               link        req  \n",
       "0        4806  https://www.wildberries.ru/catalog/221304962/d...   Футболка  \n",
       "1      156804  https://www.wildberries.ru/catalog/174232323/d...   Футболка  \n",
       "2       10738  https://www.wildberries.ru/catalog/167584225/d...   Футболка  \n",
       "3         576  https://www.wildberries.ru/catalog/338104423/d...   Футболка  \n",
       "4        1426  https://www.wildberries.ru/catalog/302774713/d...   Футболка  \n",
       "...       ...                                                ...        ...  \n",
       "2246      605  https://www.wildberries.ru/catalog/146914253/d...  Кроссовки  \n",
       "2247      199  https://www.wildberries.ru/catalog/175465004/d...  Кроссовки  \n",
       "2248     6592  https://www.wildberries.ru/catalog/172695426/d...  Кроссовки  \n",
       "2249     3170  https://www.wildberries.ru/catalog/169004232/d...  Кроссовки  \n",
       "2250     7840  https://www.wildberries.ru/catalog/166244902/d...  Кроссовки  \n",
       "\n",
       "[2251 rows x 6 columns]"
      ]
     },
     "execution_count": 15,
     "metadata": {},
     "output_type": "execute_result"
    }
   ],
   "source": [
    "df"
   ]
  },
  {
   "cell_type": "code",
   "execution_count": 17,
   "id": "6f7e5ce9-4793-490d-88f5-ce70fefaf562",
   "metadata": {},
   "outputs": [],
   "source": [
    "# Сотрём категорию кроссовки, так как на стороне вайдбериса проблема с перелистывание страниц ао запросу кроссовки(После перелистывания страницы товары не меняются)\n",
    "# Можно было бы предположить, что проблема в нашем драйвере, но и в других браузерах(уже ввод выполднялся в ручную) проблема оставалась\n",
    "df = df[df.req != \"Кроссовки\"]\n",
    "\n",
    "# Фото подтверждение(первые 4 страницы с одинаковыми товарами)\n",
    "import os\n",
    "for i in range(1, 5):\n",
    "    os.startfile(wd + \"sneakers\\\\sneakers\" + str(i) + \".png\")\n",
    "    pass"
   ]
  },
  {
   "cell_type": "code",
   "execution_count": 19,
   "id": "5c33f335-d22e-4323-814c-b301a6ea5f9f",
   "metadata": {
    "scrolled": true
   },
   "outputs": [
    {
     "data": {
      "text/html": [
       "\n",
       "        <iframe\n",
       "            width=\"100%\"\n",
       "            height=\"650\"\n",
       "            src=\"http://127.0.0.1:9898/\"\n",
       "            frameborder=\"0\"\n",
       "            allowfullscreen\n",
       "            \n",
       "        ></iframe>\n",
       "        "
      ],
      "text/plain": [
       "<IPython.lib.display.IFrame at 0x1cd7b1e2840>"
      ]
     },
     "metadata": {},
     "output_type": "display_data"
    }
   ],
   "source": [
    "from dash_app import app_dashbord\n",
    "\n",
    "# Запуск приложения\n",
    "if __name__ == '__main__':\n",
    "    app = app_dashbord(df)\n",
    "    app.app.run(debug=True, port=9898)"
   ]
  },
  {
   "cell_type": "code",
   "execution_count": 21,
   "id": "0fd53f87-3f82-4e92-b607-35b2c21cf176",
   "metadata": {},
   "outputs": [],
   "source": [
    "# Откроем в отдельном окне\n",
    "driver = create_driver()\n",
    "driver.get(\"http://localhost:9898\")"
   ]
  },
  {
   "cell_type": "code",
   "execution_count": 30,
   "id": "5ab2251c-fdad-4d9b-bc1e-427f58e475a7",
   "metadata": {},
   "outputs": [],
   "source": [
    "# Выход\n",
    "driver.quit()"
   ]
  },
  {
   "cell_type": "code",
   "execution_count": null,
   "id": "93b16efa-a563-4fc5-affd-93de96e4250c",
   "metadata": {},
   "outputs": [],
   "source": []
  },
  {
   "cell_type": "code",
   "execution_count": null,
   "id": "ccb9c380-d9ba-4012-b94c-ca305a2597f8",
   "metadata": {},
   "outputs": [],
   "source": []
  }
 ],
 "metadata": {
  "kernelspec": {
   "display_name": "Python [conda env:base] *",
   "language": "python",
   "name": "conda-base-py"
  },
  "language_info": {
   "codemirror_mode": {
    "name": "ipython",
    "version": 3
   },
   "file_extension": ".py",
   "mimetype": "text/x-python",
   "name": "python",
   "nbconvert_exporter": "python",
   "pygments_lexer": "ipython3",
   "version": "3.12.7"
  }
 },
 "nbformat": 4,
 "nbformat_minor": 5
}
